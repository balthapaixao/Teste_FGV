{
 "cells": [
  {
   "cell_type": "markdown",
   "metadata": {},
   "source": [
    "- Os dados marcados como #N/D (não deverão entrar nos gráficos) são diferentes dos dados N/D. ### [V]\n",
    "\n",
    "- Preste atenção nos tipos de dados que estão usados. ###fillna no campo\n",
    "\n",
    "- Quando se tratar de um campo numérico e a célula estiver vazia, deverá ser considerado como zero. (Usar o Python para a mudança e não o excel)\n",
    "\n",
    " \n",
    "\n",
    "Requisitos obrigatórios:\n",
    "\n",
    "- Usar a linguagem Python\n",
    "\n",
    "- Usar o iPython, jupyter notebook ou qualquer outro que gere arquivos ipynb.\n",
    "\n",
    " \n",
    "\n",
    "Diferencial:\n",
    "\n",
    " \n",
    "\n",
    "- Fazer os mesmos gráficos utilizando o dash/plotly e subir para um servidor heroku.\n",
    "\n",
    "https://dash.plot.ly/\n",
    "\n",
    "https://devcenter.heroku.com/articles/getting-started-with-python"
   ]
  },
  {
   "cell_type": "code",
   "execution_count": 1,
   "metadata": {},
   "outputs": [],
   "source": [
    "import pandas as pd\n",
    "import numpy as np\n",
    "import re\n",
    "import matplotlib.pyplot as plt\n",
    "import seaborn as sns"
   ]
  },
  {
   "cell_type": "code",
   "execution_count": 2,
   "metadata": {},
   "outputs": [],
   "source": [
    "dados = pd.read_excel('dados_teste.xlsx')"
   ]
  },
  {
   "cell_type": "code",
   "execution_count": 3,
   "metadata": {},
   "outputs": [
    {
     "name": "stdout",
     "output_type": "stream",
     "text": [
      "<class 'pandas.core.frame.DataFrame'>\n",
      "RangeIndex: 2185 entries, 0 to 2184\n",
      "Data columns (total 14 columns):\n",
      "Quem                                 2185 non-null object\n",
      "Personalidade                        2114 non-null object\n",
      "Entidade_Representativa              2113 non-null object\n",
      "Categoria_Participante               2110 non-null object\n",
      "Subcategoria_Participante            837 non-null object\n",
      "Sub_subcategoria_Participante        100 non-null object\n",
      "Sub_sub_subcategoria_Participante    3 non-null object\n",
      "Estatal                              2113 non-null object\n",
      "Numero_Manifestacoes                 2036 non-null object\n",
      "Sim_impacto                          581 non-null object\n",
      "Nao_impacto                          552 non-null object\n",
      "N/D_impacto                          1473 non-null object\n",
      "N/A_impacto                          262 non-null object\n",
      "N/C_impacto                          92 non-null object\n",
      "dtypes: object(14)\n",
      "memory usage: 239.1+ KB\n"
     ]
    }
   ],
   "source": [
    "dados.info()"
   ]
  },
  {
   "cell_type": "code",
   "execution_count": 4,
   "metadata": {},
   "outputs": [
    {
     "data": {
      "text/plain": [
       "(2185, 14)"
      ]
     },
     "execution_count": 4,
     "metadata": {},
     "output_type": "execute_result"
    }
   ],
   "source": [
    "dados.shape"
   ]
  },
  {
   "cell_type": "code",
   "execution_count": 6,
   "metadata": {},
   "outputs": [
    {
     "data": {
      "text/html": [
       "<div>\n",
       "<style scoped>\n",
       "    .dataframe tbody tr th:only-of-type {\n",
       "        vertical-align: middle;\n",
       "    }\n",
       "\n",
       "    .dataframe tbody tr th {\n",
       "        vertical-align: top;\n",
       "    }\n",
       "\n",
       "    .dataframe thead th {\n",
       "        text-align: right;\n",
       "    }\n",
       "</style>\n",
       "<table border=\"1\" class=\"dataframe\">\n",
       "  <thead>\n",
       "    <tr style=\"text-align: right;\">\n",
       "      <th></th>\n",
       "      <th>Quem</th>\n",
       "      <th>Personalidade</th>\n",
       "      <th>Entidade_Representativa</th>\n",
       "      <th>Categoria_Participante</th>\n",
       "      <th>Subcategoria_Participante</th>\n",
       "      <th>Sub_subcategoria_Participante</th>\n",
       "      <th>Sub_sub_subcategoria_Participante</th>\n",
       "      <th>Estatal</th>\n",
       "      <th>Numero_Manifestacoes</th>\n",
       "      <th>Sim_impacto</th>\n",
       "      <th>Nao_impacto</th>\n",
       "      <th>N/D_impacto</th>\n",
       "      <th>N/A_impacto</th>\n",
       "      <th>N/C_impacto</th>\n",
       "    </tr>\n",
       "  </thead>\n",
       "  <tbody>\n",
       "    <tr>\n",
       "      <th>count</th>\n",
       "      <td>2185</td>\n",
       "      <td>2114</td>\n",
       "      <td>2113</td>\n",
       "      <td>2110</td>\n",
       "      <td>837</td>\n",
       "      <td>100</td>\n",
       "      <td>3</td>\n",
       "      <td>2113</td>\n",
       "      <td>2036</td>\n",
       "      <td>581</td>\n",
       "      <td>552</td>\n",
       "      <td>1473</td>\n",
       "      <td>262</td>\n",
       "      <td>92</td>\n",
       "    </tr>\n",
       "    <tr>\n",
       "      <th>unique</th>\n",
       "      <td>2185</td>\n",
       "      <td>4</td>\n",
       "      <td>3</td>\n",
       "      <td>8</td>\n",
       "      <td>33</td>\n",
       "      <td>4</td>\n",
       "      <td>1</td>\n",
       "      <td>3</td>\n",
       "      <td>78</td>\n",
       "      <td>39</td>\n",
       "      <td>31</td>\n",
       "      <td>61</td>\n",
       "      <td>20</td>\n",
       "      <td>3</td>\n",
       "    </tr>\n",
       "    <tr>\n",
       "      <th>top</th>\n",
       "      <td>Pessoa 2025</td>\n",
       "      <td>PF</td>\n",
       "      <td>Não</td>\n",
       "      <td>Indivíduo interessado</td>\n",
       "      <td>Alimentos</td>\n",
       "      <td>Federal</td>\n",
       "      <td>N/D</td>\n",
       "      <td>Não</td>\n",
       "      <td>1</td>\n",
       "      <td>1</td>\n",
       "      <td>N/D</td>\n",
       "      <td>1</td>\n",
       "      <td>N/D</td>\n",
       "      <td>N/D</td>\n",
       "    </tr>\n",
       "    <tr>\n",
       "      <th>freq</th>\n",
       "      <td>1</td>\n",
       "      <td>1096</td>\n",
       "      <td>1739</td>\n",
       "      <td>605</td>\n",
       "      <td>155</td>\n",
       "      <td>55</td>\n",
       "      <td>3</td>\n",
       "      <td>1939</td>\n",
       "      <td>455</td>\n",
       "      <td>152</td>\n",
       "      <td>137</td>\n",
       "      <td>349</td>\n",
       "      <td>90</td>\n",
       "      <td>90</td>\n",
       "    </tr>\n",
       "  </tbody>\n",
       "</table>\n",
       "</div>"
      ],
      "text/plain": [
       "               Quem Personalidade Entidade_Representativa  \\\n",
       "count          2185          2114                    2113   \n",
       "unique         2185             4                       3   \n",
       "top     Pessoa 2025            PF                     Não   \n",
       "freq              1          1096                    1739   \n",
       "\n",
       "       Categoria_Participante Subcategoria_Participante  \\\n",
       "count                    2110                       837   \n",
       "unique                      8                        33   \n",
       "top     Indivíduo interessado                 Alimentos   \n",
       "freq                      605                       155   \n",
       "\n",
       "       Sub_subcategoria_Participante Sub_sub_subcategoria_Participante  \\\n",
       "count                            100                                 3   \n",
       "unique                             4                                 1   \n",
       "top                          Federal                               N/D   \n",
       "freq                              55                                 3   \n",
       "\n",
       "       Estatal  Numero_Manifestacoes  Sim_impacto Nao_impacto  N/D_impacto  \\\n",
       "count     2113                  2036          581         552         1473   \n",
       "unique       3                    78           39          31           61   \n",
       "top        Não                     1            1         N/D            1   \n",
       "freq      1939                   455          152         137          349   \n",
       "\n",
       "       N/A_impacto N/C_impacto  \n",
       "count          262          92  \n",
       "unique          20           3  \n",
       "top            N/D         N/D  \n",
       "freq            90          90  "
      ]
     },
     "execution_count": 6,
     "metadata": {},
     "output_type": "execute_result"
    }
   ],
   "source": [
    "dados.describe()"
   ]
  },
  {
   "cell_type": "code",
   "execution_count": 35,
   "metadata": {},
   "outputs": [
    {
     "data": {
      "text/html": [
       "<div>\n",
       "<style scoped>\n",
       "    .dataframe tbody tr th:only-of-type {\n",
       "        vertical-align: middle;\n",
       "    }\n",
       "\n",
       "    .dataframe tbody tr th {\n",
       "        vertical-align: top;\n",
       "    }\n",
       "\n",
       "    .dataframe thead th {\n",
       "        text-align: right;\n",
       "    }\n",
       "</style>\n",
       "<table border=\"1\" class=\"dataframe\">\n",
       "  <thead>\n",
       "    <tr style=\"text-align: right;\">\n",
       "      <th></th>\n",
       "      <th>Quem</th>\n",
       "      <th>Personalidade</th>\n",
       "      <th>Entidade_Representativa</th>\n",
       "      <th>Categoria_Participante</th>\n",
       "      <th>Subcategoria_Participante</th>\n",
       "      <th>Sub_subcategoria_Participante</th>\n",
       "      <th>Sub_sub_subcategoria_Participante</th>\n",
       "      <th>Estatal</th>\n",
       "      <th>Numero_Manifestacoes</th>\n",
       "      <th>Sim_impacto</th>\n",
       "      <th>Nao_impacto</th>\n",
       "      <th>N/D_impacto</th>\n",
       "      <th>N/A_impacto</th>\n",
       "      <th>N/C_impacto</th>\n",
       "    </tr>\n",
       "  </thead>\n",
       "  <tbody>\n",
       "    <tr>\n",
       "      <th>0</th>\n",
       "      <td>Pessoa 1</td>\n",
       "      <td>PJ</td>\n",
       "      <td>Sim</td>\n",
       "      <td>Agente econômico regulado</td>\n",
       "      <td>NaN</td>\n",
       "      <td>NaN</td>\n",
       "      <td>NaN</td>\n",
       "      <td>Não</td>\n",
       "      <td>2</td>\n",
       "      <td>NaN</td>\n",
       "      <td>2</td>\n",
       "      <td>NaN</td>\n",
       "      <td>NaN</td>\n",
       "      <td>NaN</td>\n",
       "    </tr>\n",
       "    <tr>\n",
       "      <th>1</th>\n",
       "      <td>Pessoa 2</td>\n",
       "      <td>PJ</td>\n",
       "      <td>Sim</td>\n",
       "      <td>Agente econômico regulado</td>\n",
       "      <td>Alimentos;Insumos Farmacêuticos</td>\n",
       "      <td>NaN</td>\n",
       "      <td>NaN</td>\n",
       "      <td>Não</td>\n",
       "      <td>8</td>\n",
       "      <td>3</td>\n",
       "      <td>5</td>\n",
       "      <td>NaN</td>\n",
       "      <td>NaN</td>\n",
       "      <td>NaN</td>\n",
       "    </tr>\n",
       "    <tr>\n",
       "      <th>2</th>\n",
       "      <td>Pessoa 3</td>\n",
       "      <td>PF</td>\n",
       "      <td>Não</td>\n",
       "      <td>Profissional de saúde</td>\n",
       "      <td>NaN</td>\n",
       "      <td>NaN</td>\n",
       "      <td>NaN</td>\n",
       "      <td>Não</td>\n",
       "      <td>9</td>\n",
       "      <td>2</td>\n",
       "      <td>7</td>\n",
       "      <td>NaN</td>\n",
       "      <td>NaN</td>\n",
       "      <td>NaN</td>\n",
       "    </tr>\n",
       "    <tr>\n",
       "      <th>3</th>\n",
       "      <td>Pessoa 4</td>\n",
       "      <td>PF</td>\n",
       "      <td>Não</td>\n",
       "      <td>Profissional de saúde</td>\n",
       "      <td>NaN</td>\n",
       "      <td>NaN</td>\n",
       "      <td>NaN</td>\n",
       "      <td>Não</td>\n",
       "      <td>6</td>\n",
       "      <td>1</td>\n",
       "      <td>5</td>\n",
       "      <td>NaN</td>\n",
       "      <td>NaN</td>\n",
       "      <td>NaN</td>\n",
       "    </tr>\n",
       "    <tr>\n",
       "      <th>4</th>\n",
       "      <td>Pessoa 5</td>\n",
       "      <td>PJ</td>\n",
       "      <td>Sim</td>\n",
       "      <td>Outros</td>\n",
       "      <td>Conselho, sindicato ou associação de profissio...</td>\n",
       "      <td>NaN</td>\n",
       "      <td>NaN</td>\n",
       "      <td>Não</td>\n",
       "      <td>17</td>\n",
       "      <td>1</td>\n",
       "      <td>16</td>\n",
       "      <td>NaN</td>\n",
       "      <td>NaN</td>\n",
       "      <td>NaN</td>\n",
       "    </tr>\n",
       "  </tbody>\n",
       "</table>\n",
       "</div>"
      ],
      "text/plain": [
       "       Quem Personalidade Entidade_Representativa     Categoria_Participante  \\\n",
       "0  Pessoa 1            PJ                     Sim  Agente econômico regulado   \n",
       "1  Pessoa 2            PJ                     Sim  Agente econômico regulado   \n",
       "2  Pessoa 3            PF                     Não      Profissional de saúde   \n",
       "3  Pessoa 4            PF                     Não      Profissional de saúde   \n",
       "4  Pessoa 5            PJ                     Sim                     Outros   \n",
       "\n",
       "                           Subcategoria_Participante  \\\n",
       "0                                                NaN   \n",
       "1                    Alimentos;Insumos Farmacêuticos   \n",
       "2                                                NaN   \n",
       "3                                                NaN   \n",
       "4  Conselho, sindicato ou associação de profissio...   \n",
       "\n",
       "  Sub_subcategoria_Participante Sub_sub_subcategoria_Participante Estatal  \\\n",
       "0                           NaN                               NaN     Não   \n",
       "1                           NaN                               NaN     Não   \n",
       "2                           NaN                               NaN     Não   \n",
       "3                           NaN                               NaN     Não   \n",
       "4                           NaN                               NaN     Não   \n",
       "\n",
       "  Numero_Manifestacoes Sim_impacto Nao_impacto N/D_impacto N/A_impacto  \\\n",
       "0                    2         NaN           2         NaN         NaN   \n",
       "1                    8           3           5         NaN         NaN   \n",
       "2                    9           2           7         NaN         NaN   \n",
       "3                    6           1           5         NaN         NaN   \n",
       "4                   17           1          16         NaN         NaN   \n",
       "\n",
       "  N/C_impacto  \n",
       "0         NaN  \n",
       "1         NaN  \n",
       "2         NaN  \n",
       "3         NaN  \n",
       "4         NaN  "
      ]
     },
     "execution_count": 35,
     "metadata": {},
     "output_type": "execute_result"
    }
   ],
   "source": [
    "dados.head()"
   ]
  },
  {
   "cell_type": "code",
   "execution_count": 8,
   "metadata": {},
   "outputs": [
    {
     "data": {
      "text/plain": [
       "Quem                                 object\n",
       "Personalidade                        object\n",
       "Entidade_Representativa              object\n",
       "Categoria_Participante               object\n",
       "Subcategoria_Participante            object\n",
       "Sub_subcategoria_Participante        object\n",
       "Sub_sub_subcategoria_Participante    object\n",
       "Estatal                              object\n",
       "Numero_Manifestacoes                 object\n",
       "Sim_impacto                          object\n",
       "Nao_impacto                          object\n",
       "N/D_impacto                          object\n",
       "N/A_impacto                          object\n",
       "N/C_impacto                          object\n",
       "dtype: object"
      ]
     },
     "execution_count": 8,
     "metadata": {},
     "output_type": "execute_result"
    }
   ],
   "source": [
    "dados.dtypes"
   ]
  },
  {
   "cell_type": "code",
   "execution_count": 9,
   "metadata": {},
   "outputs": [
    {
     "data": {
      "text/plain": [
       "Index(['Quem', 'Personalidade', 'Entidade_Representativa',\n",
       "       'Categoria_Participante', 'Subcategoria_Participante',\n",
       "       'Sub_subcategoria_Participante', 'Sub_sub_subcategoria_Participante',\n",
       "       'Estatal', 'Numero_Manifestacoes', 'Sim_impacto', 'Nao_impacto',\n",
       "       'N/D_impacto', 'N/A_impacto', 'N/C_impacto'],\n",
       "      dtype='object')"
      ]
     },
     "execution_count": 9,
     "metadata": {},
     "output_type": "execute_result"
    }
   ],
   "source": [
    "dados.columns"
   ]
  },
  {
   "cell_type": "code",
   "execution_count": 10,
   "metadata": {},
   "outputs": [
    {
     "data": {
      "text/plain": [
       "Quem                                    0\n",
       "Personalidade                          71\n",
       "Entidade_Representativa                72\n",
       "Categoria_Participante                 75\n",
       "Subcategoria_Participante            1348\n",
       "Sub_subcategoria_Participante        2085\n",
       "Sub_sub_subcategoria_Participante    2182\n",
       "Estatal                                72\n",
       "Numero_Manifestacoes                  149\n",
       "Sim_impacto                          1604\n",
       "Nao_impacto                          1633\n",
       "N/D_impacto                           712\n",
       "N/A_impacto                          1923\n",
       "N/C_impacto                          2093\n",
       "dtype: int64"
      ]
     },
     "execution_count": 10,
     "metadata": {},
     "output_type": "execute_result"
    }
   ],
   "source": [
    "dados.isnull().sum()"
   ]
  },
  {
   "cell_type": "markdown",
   "metadata": {},
   "source": [
    "# Gráficos:\n",
    "\n",
    "- Percentual de categorias participantes ### [V]\n",
    "\n",
    "- Entidade representativa por categoria ### groupby [V]\n",
    "\n",
    "- Impacto das respostas de estatais e não estatais (conforme natureza do contribuinte)\n",
    "\n",
    "- Impacto das entidades representativas e não representativas\n",
    "\n",
    "- Algum gráfico que correlacione o número de manifestações com o número de impactos positivos\n",
    "\n",
    "- Personalidade x categoria participante\n"
   ]
  },
  {
   "cell_type": "code",
   "execution_count": 11,
   "metadata": {},
   "outputs": [],
   "source": [
    "df = dados\n",
    "df = df.drop(['Subcategoria_Participante'], axis = 1)\n",
    "df = df.drop(['Sub_subcategoria_Participante'], axis = 1)\n",
    "df = df.drop(['Sub_sub_subcategoria_Participante'], axis = 1)\n"
   ]
  },
  {
   "cell_type": "code",
   "execution_count": 12,
   "metadata": {},
   "outputs": [
    {
     "data": {
      "text/html": [
       "<div>\n",
       "<style scoped>\n",
       "    .dataframe tbody tr th:only-of-type {\n",
       "        vertical-align: middle;\n",
       "    }\n",
       "\n",
       "    .dataframe tbody tr th {\n",
       "        vertical-align: top;\n",
       "    }\n",
       "\n",
       "    .dataframe thead th {\n",
       "        text-align: right;\n",
       "    }\n",
       "</style>\n",
       "<table border=\"1\" class=\"dataframe\">\n",
       "  <thead>\n",
       "    <tr style=\"text-align: right;\">\n",
       "      <th></th>\n",
       "      <th>Quem</th>\n",
       "      <th>Personalidade</th>\n",
       "      <th>Entidade_Representativa</th>\n",
       "      <th>Categoria_Participante</th>\n",
       "      <th>Estatal</th>\n",
       "      <th>Numero_Manifestacoes</th>\n",
       "      <th>Sim_impacto</th>\n",
       "      <th>Nao_impacto</th>\n",
       "      <th>N/D_impacto</th>\n",
       "      <th>N/A_impacto</th>\n",
       "      <th>N/C_impacto</th>\n",
       "    </tr>\n",
       "  </thead>\n",
       "  <tbody>\n",
       "    <tr>\n",
       "      <th>0</th>\n",
       "      <td>Pessoa 1</td>\n",
       "      <td>PJ</td>\n",
       "      <td>Sim</td>\n",
       "      <td>Agente econômico regulado</td>\n",
       "      <td>Não</td>\n",
       "      <td>2</td>\n",
       "      <td>NaN</td>\n",
       "      <td>2</td>\n",
       "      <td>NaN</td>\n",
       "      <td>NaN</td>\n",
       "      <td>NaN</td>\n",
       "    </tr>\n",
       "    <tr>\n",
       "      <th>1</th>\n",
       "      <td>Pessoa 2</td>\n",
       "      <td>PJ</td>\n",
       "      <td>Sim</td>\n",
       "      <td>Agente econômico regulado</td>\n",
       "      <td>Não</td>\n",
       "      <td>8</td>\n",
       "      <td>3</td>\n",
       "      <td>5</td>\n",
       "      <td>NaN</td>\n",
       "      <td>NaN</td>\n",
       "      <td>NaN</td>\n",
       "    </tr>\n",
       "    <tr>\n",
       "      <th>2</th>\n",
       "      <td>Pessoa 3</td>\n",
       "      <td>PF</td>\n",
       "      <td>Não</td>\n",
       "      <td>Profissional de saúde</td>\n",
       "      <td>Não</td>\n",
       "      <td>9</td>\n",
       "      <td>2</td>\n",
       "      <td>7</td>\n",
       "      <td>NaN</td>\n",
       "      <td>NaN</td>\n",
       "      <td>NaN</td>\n",
       "    </tr>\n",
       "    <tr>\n",
       "      <th>3</th>\n",
       "      <td>Pessoa 4</td>\n",
       "      <td>PF</td>\n",
       "      <td>Não</td>\n",
       "      <td>Profissional de saúde</td>\n",
       "      <td>Não</td>\n",
       "      <td>6</td>\n",
       "      <td>1</td>\n",
       "      <td>5</td>\n",
       "      <td>NaN</td>\n",
       "      <td>NaN</td>\n",
       "      <td>NaN</td>\n",
       "    </tr>\n",
       "    <tr>\n",
       "      <th>4</th>\n",
       "      <td>Pessoa 5</td>\n",
       "      <td>PJ</td>\n",
       "      <td>Sim</td>\n",
       "      <td>Outros</td>\n",
       "      <td>Não</td>\n",
       "      <td>17</td>\n",
       "      <td>1</td>\n",
       "      <td>16</td>\n",
       "      <td>NaN</td>\n",
       "      <td>NaN</td>\n",
       "      <td>NaN</td>\n",
       "    </tr>\n",
       "  </tbody>\n",
       "</table>\n",
       "</div>"
      ],
      "text/plain": [
       "       Quem Personalidade Entidade_Representativa     Categoria_Participante  \\\n",
       "0  Pessoa 1            PJ                     Sim  Agente econômico regulado   \n",
       "1  Pessoa 2            PJ                     Sim  Agente econômico regulado   \n",
       "2  Pessoa 3            PF                     Não      Profissional de saúde   \n",
       "3  Pessoa 4            PF                     Não      Profissional de saúde   \n",
       "4  Pessoa 5            PJ                     Sim                     Outros   \n",
       "\n",
       "  Estatal Numero_Manifestacoes Sim_impacto Nao_impacto N/D_impacto  \\\n",
       "0     Não                    2         NaN           2         NaN   \n",
       "1     Não                    8           3           5         NaN   \n",
       "2     Não                    9           2           7         NaN   \n",
       "3     Não                    6           1           5         NaN   \n",
       "4     Não                   17           1          16         NaN   \n",
       "\n",
       "  N/A_impacto N/C_impacto  \n",
       "0         NaN         NaN  \n",
       "1         NaN         NaN  \n",
       "2         NaN         NaN  \n",
       "3         NaN         NaN  \n",
       "4         NaN         NaN  "
      ]
     },
     "execution_count": 12,
     "metadata": {},
     "output_type": "execute_result"
    }
   ],
   "source": [
    "df.head()"
   ]
  },
  {
   "cell_type": "code",
   "execution_count": 13,
   "metadata": {},
   "outputs": [
    {
     "name": "stdout",
     "output_type": "stream",
     "text": [
      "Categoria_Participante\n",
      "Agente econômico não regulado     69\n",
      "Agente econômico regulado        603\n",
      "Ator Governamental               122\n",
      "Consumidor/Usuário                 5\n",
      "Indivíduo interessado            605\n",
      "N/D                                3\n",
      "Outros                           179\n",
      "Profissional de saúde            524\n",
      "Name: Quem, dtype: int64\n"
     ]
    },
    {
     "data": {
      "text/plain": [
       "2110"
      ]
     },
     "execution_count": 13,
     "metadata": {},
     "output_type": "execute_result"
    }
   ],
   "source": [
    "porcentagem = df.groupby('Categoria_Participante')[\"Quem\"].count()\n",
    "print(porcentagem)\n",
    "porcentagem.sum()\n"
   ]
  },
  {
   "cell_type": "code",
   "execution_count": 14,
   "metadata": {},
   "outputs": [
    {
     "data": {
      "text/plain": [
       "Index(['Agente econômico não regulado', 'Agente econômico regulado',\n",
       "       'Ator Governamental', 'Consumidor/Usuário', 'Indivíduo interessado',\n",
       "       'N/D', 'Outros', 'Profissional de saúde'],\n",
       "      dtype='object', name='Categoria_Participante')"
      ]
     },
     "execution_count": 14,
     "metadata": {},
     "output_type": "execute_result"
    }
   ],
   "source": [
    "porcentagem.keys()"
   ]
  },
  {
   "cell_type": "code",
   "execution_count": 15,
   "metadata": {},
   "outputs": [
    {
     "data": {
      "image/png": "[encoded data removed]",
      "text/plain": [
       "<Figure size 432x288 with 1 Axes>"
      ]
     },
     "metadata": {},
     "output_type": "display_data"
    }
   ],
   "source": [
    "#PLOT 1\n",
    "\n",
    "fig1, ax1 = plt.subplots()\n",
    "ax1.pie(porcentagem, labels = porcentagem.keys(), autopct = '%1.1f%%',startangle=90 )\n",
    "ax1.axis('equal')\n",
    "plt.title(\"Percentual de categorias participantes\")\n",
    "plt.savefig('Categorias.png')"
   ]
  },
  {
   "cell_type": "code",
   "execution_count": 16,
   "metadata": {},
   "outputs": [],
   "source": [
    "ent_cat = df.groupby([\"Categoria_Participante\", \"Entidade_Representativa\"]).size()"
   ]
  },
  {
   "cell_type": "code",
   "execution_count": 17,
   "metadata": {},
   "outputs": [
    {
     "data": {
      "text/plain": [
       "Categoria_Participante         Entidade_Representativa\n",
       "Agente econômico não regulado  Não                         55\n",
       "                               Sim                         14\n",
       "Agente econômico regulado      Não                        346\n",
       "                               Sim                        257\n",
       "Ator Governamental             Não                        102\n",
       "                               Sim                         20\n",
       "Consumidor/Usuário             Sim                          5\n",
       "Indivíduo interessado          Não                        605\n",
       "N/D                            N/D                          3\n",
       "Outros                         Não                        135\n",
       "                               Sim                         44\n",
       "Profissional de saúde          Não                        494\n",
       "                               Sim                         30\n",
       "dtype: int64"
      ]
     },
     "execution_count": 17,
     "metadata": {},
     "output_type": "execute_result"
    }
   ],
   "source": [
    "ent_cat"
   ]
  },
  {
   "cell_type": "code",
   "execution_count": 18,
   "metadata": {},
   "outputs": [
    {
     "data": {
      "image/png": "[encoded data removed]",
      "text/plain": [
       "<Figure size 432x288 with 1 Axes>"
      ]
     },
     "metadata": {
      "needs_background": "light"
     },
     "output_type": "display_data"
    }
   ],
   "source": [
    "#PLOT 2\n",
    "df.groupby([\"Categoria_Participante\", \"Entidade_Representativa\"]).Quem.count().unstack().reset_index()\\\n",
    ".plot.bar(x = \"Categoria_Participante\").set_yscale('log')\n",
    "plt.title(\"Entidade representativa por categoria\")\n",
    "plt.savefig('EntidadexCategoria.png')"
   ]
  },
  {
   "cell_type": "code",
   "execution_count": 19,
   "metadata": {},
   "outputs": [],
   "source": [
    "colunas = []\n",
    "for i in range(0, len(porcentagem.keys())):\n",
    "    colunas.append(porcentagem.keys()[i])"
   ]
  },
  {
   "cell_type": "code",
   "execution_count": 20,
   "metadata": {},
   "outputs": [
    {
     "data": {
      "text/plain": [
       "['Agente econômico não regulado',\n",
       " 'Agente econômico regulado',\n",
       " 'Ator Governamental',\n",
       " 'Consumidor/Usuário',\n",
       " 'Indivíduo interessado',\n",
       " 'N/D',\n",
       " 'Outros',\n",
       " 'Profissional de saúde']"
      ]
     },
     "execution_count": 20,
     "metadata": {},
     "output_type": "execute_result"
    }
   ],
   "source": [
    "colunas"
   ]
  },
  {
   "cell_type": "code",
   "execution_count": 21,
   "metadata": {},
   "outputs": [],
   "source": [
    "df_w_na = df"
   ]
  },
  {
   "cell_type": "code",
   "execution_count": 22,
   "metadata": {},
   "outputs": [
    {
     "data": {
      "text/html": [
       "<div>\n",
       "<style scoped>\n",
       "    .dataframe tbody tr th:only-of-type {\n",
       "        vertical-align: middle;\n",
       "    }\n",
       "\n",
       "    .dataframe tbody tr th {\n",
       "        vertical-align: top;\n",
       "    }\n",
       "\n",
       "    .dataframe thead th {\n",
       "        text-align: right;\n",
       "    }\n",
       "</style>\n",
       "<table border=\"1\" class=\"dataframe\">\n",
       "  <thead>\n",
       "    <tr style=\"text-align: right;\">\n",
       "      <th></th>\n",
       "      <th>Quem</th>\n",
       "      <th>Personalidade</th>\n",
       "      <th>Entidade_Representativa</th>\n",
       "      <th>Categoria_Participante</th>\n",
       "      <th>Estatal</th>\n",
       "      <th>Numero_Manifestacoes</th>\n",
       "      <th>Sim_impacto</th>\n",
       "      <th>Nao_impacto</th>\n",
       "      <th>N/D_impacto</th>\n",
       "      <th>N/A_impacto</th>\n",
       "      <th>N/C_impacto</th>\n",
       "    </tr>\n",
       "  </thead>\n",
       "  <tbody>\n",
       "    <tr>\n",
       "      <th>2180</th>\n",
       "      <td>Pessoa 2181</td>\n",
       "      <td>NaN</td>\n",
       "      <td>NaN</td>\n",
       "      <td>NaN</td>\n",
       "      <td>NaN</td>\n",
       "      <td>NaN</td>\n",
       "      <td>NaN</td>\n",
       "      <td>NaN</td>\n",
       "      <td>NaN</td>\n",
       "      <td>NaN</td>\n",
       "      <td>NaN</td>\n",
       "    </tr>\n",
       "    <tr>\n",
       "      <th>2181</th>\n",
       "      <td>Pessoa 2182</td>\n",
       "      <td>PJ</td>\n",
       "      <td>Não</td>\n",
       "      <td>Ator Governamental</td>\n",
       "      <td>Sim</td>\n",
       "      <td>0</td>\n",
       "      <td>NaN</td>\n",
       "      <td>NaN</td>\n",
       "      <td>0</td>\n",
       "      <td>NaN</td>\n",
       "      <td>NaN</td>\n",
       "    </tr>\n",
       "    <tr>\n",
       "      <th>2182</th>\n",
       "      <td>Pessoa 2183</td>\n",
       "      <td>PJ</td>\n",
       "      <td>Não</td>\n",
       "      <td>Agente econômico regulado</td>\n",
       "      <td>Não</td>\n",
       "      <td>1</td>\n",
       "      <td>NaN</td>\n",
       "      <td>NaN</td>\n",
       "      <td>1</td>\n",
       "      <td>NaN</td>\n",
       "      <td>NaN</td>\n",
       "    </tr>\n",
       "    <tr>\n",
       "      <th>2183</th>\n",
       "      <td>Pessoa 2184</td>\n",
       "      <td>NaN</td>\n",
       "      <td>NaN</td>\n",
       "      <td>NaN</td>\n",
       "      <td>NaN</td>\n",
       "      <td>1254</td>\n",
       "      <td>624</td>\n",
       "      <td>304</td>\n",
       "      <td>NaN</td>\n",
       "      <td>326</td>\n",
       "      <td>NaN</td>\n",
       "    </tr>\n",
       "    <tr>\n",
       "      <th>2184</th>\n",
       "      <td>Pessoa 2185</td>\n",
       "      <td>NaN</td>\n",
       "      <td>NaN</td>\n",
       "      <td>NaN</td>\n",
       "      <td>NaN</td>\n",
       "      <td>10</td>\n",
       "      <td>3</td>\n",
       "      <td>7</td>\n",
       "      <td>NaN</td>\n",
       "      <td>NaN</td>\n",
       "      <td>NaN</td>\n",
       "    </tr>\n",
       "  </tbody>\n",
       "</table>\n",
       "</div>"
      ],
      "text/plain": [
       "             Quem Personalidade Entidade_Representativa  \\\n",
       "2180  Pessoa 2181           NaN                     NaN   \n",
       "2181  Pessoa 2182            PJ                     Não   \n",
       "2182  Pessoa 2183            PJ                     Não   \n",
       "2183  Pessoa 2184           NaN                     NaN   \n",
       "2184  Pessoa 2185           NaN                     NaN   \n",
       "\n",
       "         Categoria_Participante Estatal Numero_Manifestacoes Sim_impacto  \\\n",
       "2180                        NaN     NaN                  NaN         NaN   \n",
       "2181         Ator Governamental     Sim                    0         NaN   \n",
       "2182  Agente econômico regulado     Não                    1         NaN   \n",
       "2183                        NaN     NaN                 1254         624   \n",
       "2184                        NaN     NaN                   10           3   \n",
       "\n",
       "     Nao_impacto N/D_impacto N/A_impacto N/C_impacto  \n",
       "2180         NaN         NaN         NaN         NaN  \n",
       "2181         NaN           0         NaN         NaN  \n",
       "2182         NaN           1         NaN         NaN  \n",
       "2183         304         NaN         326         NaN  \n",
       "2184           7         NaN         NaN         NaN  "
      ]
     },
     "execution_count": 22,
     "metadata": {},
     "output_type": "execute_result"
    }
   ],
   "source": [
    "df_w_na.tail()"
   ]
  },
  {
   "cell_type": "code",
   "execution_count": 23,
   "metadata": {},
   "outputs": [],
   "source": [
    "df[\"Numero_Manifestacoes\"] = df_w_na[\"Numero_Manifestacoes\"].fillna('0')\n",
    "df[\"Sim_impacto\"] = df_w_na[\"Sim_impacto\"].fillna('0')\n",
    "df[\"Nao_impacto\"] = df_w_na[\"Nao_impacto\"].fillna('0')\n",
    "df[\"N/D_impacto\"] = df_w_na[\"N/D_impacto\"].fillna('0')\n",
    "df[\"N/A_impacto\"] = df_w_na[\"N/A_impacto\"].fillna('0')\n",
    "df[\"N/C_impacto\"] = df_w_na[\"N/C_impacto\"].fillna('0')"
   ]
  },
  {
   "cell_type": "code",
   "execution_count": 24,
   "metadata": {},
   "outputs": [
    {
     "data": {
      "text/html": [
       "<div>\n",
       "<style scoped>\n",
       "    .dataframe tbody tr th:only-of-type {\n",
       "        vertical-align: middle;\n",
       "    }\n",
       "\n",
       "    .dataframe tbody tr th {\n",
       "        vertical-align: top;\n",
       "    }\n",
       "\n",
       "    .dataframe thead th {\n",
       "        text-align: right;\n",
       "    }\n",
       "</style>\n",
       "<table border=\"1\" class=\"dataframe\">\n",
       "  <thead>\n",
       "    <tr style=\"text-align: right;\">\n",
       "      <th>Estatal</th>\n",
       "      <th>N/D</th>\n",
       "      <th>Não</th>\n",
       "      <th>Sim</th>\n",
       "    </tr>\n",
       "    <tr>\n",
       "      <th>Personalidade</th>\n",
       "      <th></th>\n",
       "      <th></th>\n",
       "      <th></th>\n",
       "    </tr>\n",
       "  </thead>\n",
       "  <tbody>\n",
       "    <tr>\n",
       "      <th>N/C</th>\n",
       "      <td>NaN</td>\n",
       "      <td>4.0</td>\n",
       "      <td>5.0</td>\n",
       "    </tr>\n",
       "    <tr>\n",
       "      <th>N/D</th>\n",
       "      <td>3.0</td>\n",
       "      <td>NaN</td>\n",
       "      <td>1.0</td>\n",
       "    </tr>\n",
       "    <tr>\n",
       "      <th>PF</th>\n",
       "      <td>NaN</td>\n",
       "      <td>1096.0</td>\n",
       "      <td>NaN</td>\n",
       "    </tr>\n",
       "    <tr>\n",
       "      <th>PJ</th>\n",
       "      <td>3.0</td>\n",
       "      <td>839.0</td>\n",
       "      <td>162.0</td>\n",
       "    </tr>\n",
       "  </tbody>\n",
       "</table>\n",
       "</div>"
      ],
      "text/plain": [
       "Estatal        N/D     Não    Sim\n",
       "Personalidade                    \n",
       "N/C            NaN     4.0    5.0\n",
       "N/D            3.0     NaN    1.0\n",
       "PF             NaN  1096.0    NaN\n",
       "PJ             3.0   839.0  162.0"
      ]
     },
     "execution_count": 24,
     "metadata": {},
     "output_type": "execute_result"
    }
   ],
   "source": [
    "df.groupby(['Personalidade', \"Estatal\"])[\"Quem\"].count().unstack()"
   ]
  },
  {
   "cell_type": "code",
   "execution_count": 25,
   "metadata": {},
   "outputs": [
    {
     "data": {
      "image/png": "[encoded data removed]",
      "text/plain": [
       "<Figure size 432x288 with 1 Axes>"
      ]
     },
     "metadata": {
      "needs_background": "light"
     },
     "output_type": "display_data"
    },
    {
     "data": {
      "image/png": "[encoded data removed]",
      "text/plain": [
       "<Figure size 432x288 with 1 Axes>"
      ]
     },
     "metadata": {
      "needs_background": "light"
     },
     "output_type": "display_data"
    },
    {
     "data": {
      "image/png": "[encoded data removed]",
      "text/plain": [
       "<Figure size 432x288 with 1 Axes>"
      ]
     },
     "metadata": {
      "needs_background": "light"
     },
     "output_type": "display_data"
    },
    {
     "data": {
      "image/png": "[encoded data removed]",
      "text/plain": [
       "<Figure size 432x288 with 1 Axes>"
      ]
     },
     "metadata": {
      "needs_background": "light"
     },
     "output_type": "display_data"
    },
    {
     "data": {
      "image/png": "[encoded data removed]",
      "text/plain": [
       "<Figure size 432x288 with 1 Axes>"
      ]
     },
     "metadata": {
      "needs_background": "light"
     },
     "output_type": "display_data"
    }
   ],
   "source": [
    "df.groupby(['Personalidade', \"Estatal\"])[\"Sim_impacto\"].count().unstack().reset_index()\\\n",
    ".plot.bar(x = \"Personalidade\").set_yscale('log')\n",
    "plt.title(\"Impacto das respostas de estatais e não estatais - Sim_impacto\")\n",
    "\n",
    "df.groupby(['Personalidade', \"Estatal\"])[\"Nao_impacto\"].count().unstack().reset_index()\\\n",
    ".plot.bar(x = \"Personalidade\").set_yscale('log')\n",
    "plt.title(\"Impacto das respostas de estatais e não estatais - Nao_impacto\")\n",
    "\n",
    "\n",
    "df.groupby(['Personalidade', \"Estatal\"])[\"N/D_impacto\"].count().unstack().reset_index()\\\n",
    ".plot.bar(x = \"Personalidade\").set_yscale('log')\n",
    "plt.title(\"Impacto das respostas de estatais e não estatais - N/D_impacto\")\n",
    "\n",
    "df.groupby(['Personalidade', \"Estatal\"])[\"N/A_impacto\"].count().unstack().reset_index()\\\n",
    ".plot.bar(x = \"Personalidade\").set_yscale('log')\n",
    "plt.title(\"Impacto das respostas de estatais e não estatais - N/A_impacto\")\n",
    "\n",
    "df.groupby(['Personalidade', \"Estatal\"])[\"N/C_impacto\"].count().unstack().reset_index()\\\n",
    ".plot.bar(x = \"Personalidade\").set_yscale('log')\n",
    "plt.title(\"Impacto das respostas de estatais e não estatais - N/C_impacto\")\n",
    "\n",
    "plt.show()\n",
    "#plt.savefig(\"EstatalxPersonalidade\")\n",
    "\n",
    "#[\"Sim_impacto\", 'Nao_impacto', 'N/D_impacto','N/A_impacto', 'N/C_impacto']"
   ]
  },
  {
   "cell_type": "raw",
   "metadata": {},
   "source": [
    "df.groupby(['Personalidade', \"Estatal\"])[\"Quem\"].count().unstack().reset_index()\\\n",
    ".plot.bar(x = \"Personalidade\").set_yscale('log')\n",
    "plt.title(\"Impacto das respostas de estatais e não estatais\")\n",
    "plt.savefig(\"Estatal x Personalidade\")\n",
    "\n"
   ]
  },
  {
   "cell_type": "code",
   "execution_count": 26,
   "metadata": {},
   "outputs": [
    {
     "data": {
      "text/plain": [
       "Personalidade  Estatal\n",
       "N/C            Não           4\n",
       "               Sim           5\n",
       "N/D            N/D           3\n",
       "               Sim           1\n",
       "PF             Não        1096\n",
       "PJ             N/D           3\n",
       "               Não         839\n",
       "               Sim         162\n",
       "Name: Sim_impacto, dtype: int64"
      ]
     },
     "execution_count": 26,
     "metadata": {},
     "output_type": "execute_result"
    }
   ],
   "source": [
    "df.groupby(['Personalidade', \"Estatal\"])[\"Sim_impacto\"].count()\n"
   ]
  },
  {
   "cell_type": "code",
   "execution_count": 27,
   "metadata": {},
   "outputs": [
    {
     "data": {
      "text/html": [
       "<div>\n",
       "<style scoped>\n",
       "    .dataframe tbody tr th:only-of-type {\n",
       "        vertical-align: middle;\n",
       "    }\n",
       "\n",
       "    .dataframe tbody tr th {\n",
       "        vertical-align: top;\n",
       "    }\n",
       "\n",
       "    .dataframe thead th {\n",
       "        text-align: right;\n",
       "    }\n",
       "</style>\n",
       "<table border=\"1\" class=\"dataframe\">\n",
       "  <thead>\n",
       "    <tr style=\"text-align: right;\">\n",
       "      <th></th>\n",
       "      <th>Quem</th>\n",
       "      <th>Personalidade</th>\n",
       "      <th>Entidade_Representativa</th>\n",
       "      <th>Categoria_Participante</th>\n",
       "      <th>Estatal</th>\n",
       "      <th>Numero_Manifestacoes</th>\n",
       "      <th>Sim_impacto</th>\n",
       "      <th>Nao_impacto</th>\n",
       "      <th>N/D_impacto</th>\n",
       "      <th>N/A_impacto</th>\n",
       "      <th>N/C_impacto</th>\n",
       "    </tr>\n",
       "  </thead>\n",
       "  <tbody>\n",
       "    <tr>\n",
       "      <th>0</th>\n",
       "      <td>Pessoa 1</td>\n",
       "      <td>PJ</td>\n",
       "      <td>Sim</td>\n",
       "      <td>Agente econômico regulado</td>\n",
       "      <td>Não</td>\n",
       "      <td>2</td>\n",
       "      <td>0</td>\n",
       "      <td>2</td>\n",
       "      <td>0</td>\n",
       "      <td>0</td>\n",
       "      <td>0</td>\n",
       "    </tr>\n",
       "    <tr>\n",
       "      <th>1</th>\n",
       "      <td>Pessoa 2</td>\n",
       "      <td>PJ</td>\n",
       "      <td>Sim</td>\n",
       "      <td>Agente econômico regulado</td>\n",
       "      <td>Não</td>\n",
       "      <td>8</td>\n",
       "      <td>3</td>\n",
       "      <td>5</td>\n",
       "      <td>0</td>\n",
       "      <td>0</td>\n",
       "      <td>0</td>\n",
       "    </tr>\n",
       "    <tr>\n",
       "      <th>2</th>\n",
       "      <td>Pessoa 3</td>\n",
       "      <td>PF</td>\n",
       "      <td>Não</td>\n",
       "      <td>Profissional de saúde</td>\n",
       "      <td>Não</td>\n",
       "      <td>9</td>\n",
       "      <td>2</td>\n",
       "      <td>7</td>\n",
       "      <td>0</td>\n",
       "      <td>0</td>\n",
       "      <td>0</td>\n",
       "    </tr>\n",
       "    <tr>\n",
       "      <th>3</th>\n",
       "      <td>Pessoa 4</td>\n",
       "      <td>PF</td>\n",
       "      <td>Não</td>\n",
       "      <td>Profissional de saúde</td>\n",
       "      <td>Não</td>\n",
       "      <td>6</td>\n",
       "      <td>1</td>\n",
       "      <td>5</td>\n",
       "      <td>0</td>\n",
       "      <td>0</td>\n",
       "      <td>0</td>\n",
       "    </tr>\n",
       "    <tr>\n",
       "      <th>4</th>\n",
       "      <td>Pessoa 5</td>\n",
       "      <td>PJ</td>\n",
       "      <td>Sim</td>\n",
       "      <td>Outros</td>\n",
       "      <td>Não</td>\n",
       "      <td>17</td>\n",
       "      <td>1</td>\n",
       "      <td>16</td>\n",
       "      <td>0</td>\n",
       "      <td>0</td>\n",
       "      <td>0</td>\n",
       "    </tr>\n",
       "  </tbody>\n",
       "</table>\n",
       "</div>"
      ],
      "text/plain": [
       "       Quem Personalidade Entidade_Representativa     Categoria_Participante  \\\n",
       "0  Pessoa 1            PJ                     Sim  Agente econômico regulado   \n",
       "1  Pessoa 2            PJ                     Sim  Agente econômico regulado   \n",
       "2  Pessoa 3            PF                     Não      Profissional de saúde   \n",
       "3  Pessoa 4            PF                     Não      Profissional de saúde   \n",
       "4  Pessoa 5            PJ                     Sim                     Outros   \n",
       "\n",
       "  Estatal Numero_Manifestacoes Sim_impacto Nao_impacto N/D_impacto  \\\n",
       "0     Não                    2           0           2           0   \n",
       "1     Não                    8           3           5           0   \n",
       "2     Não                    9           2           7           0   \n",
       "3     Não                    6           1           5           0   \n",
       "4     Não                   17           1          16           0   \n",
       "\n",
       "  N/A_impacto N/C_impacto  \n",
       "0           0           0  \n",
       "1           0           0  \n",
       "2           0           0  \n",
       "3           0           0  \n",
       "4           0           0  "
      ]
     },
     "execution_count": 27,
     "metadata": {},
     "output_type": "execute_result"
    }
   ],
   "source": [
    "df.Entidade_Representativa = df.Entidade_Representativa.astype(\"category\")\n",
    "df.head()"
   ]
  },
  {
   "cell_type": "code",
   "execution_count": 28,
   "metadata": {},
   "outputs": [
    {
     "data": {
      "text/html": [
       "<div>\n",
       "<style scoped>\n",
       "    .dataframe tbody tr th:only-of-type {\n",
       "        vertical-align: middle;\n",
       "    }\n",
       "\n",
       "    .dataframe tbody tr th {\n",
       "        vertical-align: top;\n",
       "    }\n",
       "\n",
       "    .dataframe thead th {\n",
       "        text-align: right;\n",
       "    }\n",
       "</style>\n",
       "<table border=\"1\" class=\"dataframe\">\n",
       "  <thead>\n",
       "    <tr style=\"text-align: right;\">\n",
       "      <th></th>\n",
       "      <th>Sim_impacto</th>\n",
       "      <th>Nao_impacto</th>\n",
       "      <th>N/D_impacto</th>\n",
       "      <th>N/A_impacto</th>\n",
       "      <th>N/C_impacto</th>\n",
       "    </tr>\n",
       "    <tr>\n",
       "      <th>Entidade_Representativa</th>\n",
       "      <th></th>\n",
       "      <th></th>\n",
       "      <th></th>\n",
       "      <th></th>\n",
       "      <th></th>\n",
       "    </tr>\n",
       "  </thead>\n",
       "  <tbody>\n",
       "    <tr>\n",
       "      <th>N/D</th>\n",
       "      <td>3</td>\n",
       "      <td>3</td>\n",
       "      <td>3</td>\n",
       "      <td>3</td>\n",
       "      <td>3</td>\n",
       "    </tr>\n",
       "    <tr>\n",
       "      <th>Não</th>\n",
       "      <td>1739</td>\n",
       "      <td>1739</td>\n",
       "      <td>1739</td>\n",
       "      <td>1739</td>\n",
       "      <td>1739</td>\n",
       "    </tr>\n",
       "    <tr>\n",
       "      <th>Sim</th>\n",
       "      <td>371</td>\n",
       "      <td>371</td>\n",
       "      <td>371</td>\n",
       "      <td>371</td>\n",
       "      <td>371</td>\n",
       "    </tr>\n",
       "  </tbody>\n",
       "</table>\n",
       "</div>"
      ],
      "text/plain": [
       "                         Sim_impacto  Nao_impacto  N/D_impacto  N/A_impacto  \\\n",
       "Entidade_Representativa                                                       \n",
       "N/D                                3            3            3            3   \n",
       "Não                             1739         1739         1739         1739   \n",
       "Sim                              371          371          371          371   \n",
       "\n",
       "                         N/C_impacto  \n",
       "Entidade_Representativa               \n",
       "N/D                                3  \n",
       "Não                             1739  \n",
       "Sim                              371  "
      ]
     },
     "execution_count": 28,
     "metadata": {},
     "output_type": "execute_result"
    }
   ],
   "source": [
    "df.groupby(['Entidade_Representativa'])[\"Sim_impacto\", 'Nao_impacto', 'N/D_impacto','N/A_impacto', 'N/C_impacto'].count()\n"
   ]
  },
  {
   "cell_type": "code",
   "execution_count": 29,
   "metadata": {},
   "outputs": [
    {
     "data": {
      "image/png": "[encoded data removed]",
      "text/plain": [
       "<Figure size 432x288 with 1 Axes>"
      ]
     },
     "metadata": {
      "needs_background": "light"
     },
     "output_type": "display_data"
    },
    {
     "data": {
      "image/png": "[encoded data removed]",
      "text/plain": [
       "<Figure size 432x288 with 1 Axes>"
      ]
     },
     "metadata": {
      "needs_background": "light"
     },
     "output_type": "display_data"
    },
    {
     "data": {
      "image/png": "[encoded data removed]",
      "text/plain": [
       "<Figure size 432x288 with 1 Axes>"
      ]
     },
     "metadata": {
      "needs_background": "light"
     },
     "output_type": "display_data"
    },
    {
     "data": {
      "image/png": "[encoded data removed]",
      "text/plain": [
       "<Figure size 432x288 with 1 Axes>"
      ]
     },
     "metadata": {
      "needs_background": "light"
     },
     "output_type": "display_data"
    },
    {
     "data": {
      "image/png": "[encoded data removed]",
      "text/plain": [
       "<Figure size 432x288 with 1 Axes>"
      ]
     },
     "metadata": {
      "needs_background": "light"
     },
     "output_type": "display_data"
    }
   ],
   "source": [
    "#PLOT 4\n",
    "\n",
    "df.groupby(['Entidade_Representativa', \"Estatal\"])[\"Sim_impacto\"].count().unstack().reset_index()\\\n",
    ".plot.bar(x = \"Entidade_Representativa\").set_yscale('log')\n",
    "plt.title(\"Impacto das entidades representativas e não representativas - Sim_impacto\")\n",
    "\n",
    "df.groupby(['Entidade_Representativa', \"Estatal\"])[\"Nao_impacto\"].count().unstack().reset_index()\\\n",
    ".plot.bar(x = \"Entidade_Representativa\").set_yscale('log')\n",
    "plt.title(\"Impacto das entidades representativas e não representativas - Nao_impacto\")\n",
    "\n",
    "\n",
    "df.groupby(['Entidade_Representativa', \"Estatal\"])[\"N/D_impacto\"].count().unstack().reset_index()\\\n",
    ".plot.bar(x = \"Entidade_Representativa\").set_yscale('log')\n",
    "plt.title(\"Impacto das entidades representativas e não representativas - N/D_impacto\")\n",
    "\n",
    "df.groupby(['Entidade_Representativa', \"Estatal\"])[\"N/A_impacto\"].count().unstack().reset_index()\\\n",
    ".plot.bar(x = \"Entidade_Representativa\").set_yscale('log')\n",
    "plt.title(\"Impacto das entidades representativas e não representativas - N/A_impacto\")\n",
    "\n",
    "df.groupby(['Entidade_Representativa', \"Estatal\"])[\"N/C_impacto\"].count().unstack().reset_index()\\\n",
    ".plot.bar(x = \"Entidade_Representativa\").set_yscale('log')\n",
    "plt.title(\"Impacto das entidades representativas e não representativas - N/C_impacto\")\n",
    "\n",
    "plt.show()"
   ]
  },
  {
   "cell_type": "raw",
   "metadata": {},
   "source": [
    "#PLOT 4\n",
    "\n",
    "df.groupby('Entidade_Representativa')[\"Sim_impacto\", 'Nao_impacto', 'N/D_impacto','N/A_impacto', 'N/C_impacto'].count().unstack().plot(x=\"Entidade_Representativa\", y=[\"Sim_impacto\", 'Nao_impacto', 'N/D_impacto','N/A_impacto', 'N/C_impacto'], kind=\"bar\").set_yscale(\"log\")\n",
    "\n",
    "plt.ylabel('Contagem em escala logarítmica')\n",
    "plt.title('Impacto das entidades representativas e não representativas')\n",
    "plt.savefig(\"ImpactoEntidade.png\")"
   ]
  },
  {
   "cell_type": "code",
   "execution_count": 30,
   "metadata": {},
   "outputs": [
    {
     "data": {
      "text/html": [
       "<div>\n",
       "<style scoped>\n",
       "    .dataframe tbody tr th:only-of-type {\n",
       "        vertical-align: middle;\n",
       "    }\n",
       "\n",
       "    .dataframe tbody tr th {\n",
       "        vertical-align: top;\n",
       "    }\n",
       "\n",
       "    .dataframe thead th {\n",
       "        text-align: right;\n",
       "    }\n",
       "</style>\n",
       "<table border=\"1\" class=\"dataframe\">\n",
       "  <thead>\n",
       "    <tr style=\"text-align: right;\">\n",
       "      <th></th>\n",
       "      <th>Sim_impacto</th>\n",
       "      <th>Nao_impacto</th>\n",
       "      <th>N/D_impacto</th>\n",
       "      <th>N/A_impacto</th>\n",
       "      <th>N/C_impacto</th>\n",
       "    </tr>\n",
       "    <tr>\n",
       "      <th>Entidade_Representativa</th>\n",
       "      <th></th>\n",
       "      <th></th>\n",
       "      <th></th>\n",
       "      <th></th>\n",
       "      <th></th>\n",
       "    </tr>\n",
       "  </thead>\n",
       "  <tbody>\n",
       "    <tr>\n",
       "      <th>N/D</th>\n",
       "      <td>3</td>\n",
       "      <td>3</td>\n",
       "      <td>3</td>\n",
       "      <td>3</td>\n",
       "      <td>3</td>\n",
       "    </tr>\n",
       "    <tr>\n",
       "      <th>Não</th>\n",
       "      <td>1739</td>\n",
       "      <td>1739</td>\n",
       "      <td>1739</td>\n",
       "      <td>1739</td>\n",
       "      <td>1739</td>\n",
       "    </tr>\n",
       "    <tr>\n",
       "      <th>Sim</th>\n",
       "      <td>371</td>\n",
       "      <td>371</td>\n",
       "      <td>371</td>\n",
       "      <td>371</td>\n",
       "      <td>371</td>\n",
       "    </tr>\n",
       "  </tbody>\n",
       "</table>\n",
       "</div>"
      ],
      "text/plain": [
       "                         Sim_impacto  Nao_impacto  N/D_impacto  N/A_impacto  \\\n",
       "Entidade_Representativa                                                       \n",
       "N/D                                3            3            3            3   \n",
       "Não                             1739         1739         1739         1739   \n",
       "Sim                              371          371          371          371   \n",
       "\n",
       "                         N/C_impacto  \n",
       "Entidade_Representativa               \n",
       "N/D                                3  \n",
       "Não                             1739  \n",
       "Sim                              371  "
      ]
     },
     "execution_count": 30,
     "metadata": {},
     "output_type": "execute_result"
    }
   ],
   "source": [
    "df.groupby('Entidade_Representativa')[\"Sim_impacto\", 'Nao_impacto', 'N/D_impacto','N/A_impacto', 'N/C_impacto'].count()\n"
   ]
  },
  {
   "cell_type": "code",
   "execution_count": 31,
   "metadata": {},
   "outputs": [
    {
     "data": {
      "text/plain": [
       "Index(['Quem', 'Personalidade', 'Entidade_Representativa',\n",
       "       'Categoria_Participante', 'Estatal', 'Numero_Manifestacoes',\n",
       "       'Sim_impacto', 'Nao_impacto', 'N/D_impacto', 'N/A_impacto',\n",
       "       'N/C_impacto'],\n",
       "      dtype='object')"
      ]
     },
     "execution_count": 31,
     "metadata": {},
     "output_type": "execute_result"
    }
   ],
   "source": [
    "df.columns"
   ]
  },
  {
   "cell_type": "code",
   "execution_count": 32,
   "metadata": {},
   "outputs": [
    {
     "data": {
      "image/png": "[encoded data removed]",
      "text/plain": [
       "<Figure size 432x288 with 1 Axes>"
      ]
     },
     "metadata": {
      "needs_background": "light"
     },
     "output_type": "display_data"
    }
   ],
   "source": [
    "#PLOT 5\n",
    "\n",
    "ts = df.groupby(['Numero_Manifestacoes'])[\"Sim_impacto\"].count()\n",
    "ts.plot()\n",
    "plt.ylabel('Número de impactos positivos')\n",
    "plt.title('Correlação entre o número de manifestações e o número de impactos positivos')\n",
    "plt.savefig('Impacto Positivo N Manifestacoes')"
   ]
  },
  {
   "cell_type": "code",
   "execution_count": 33,
   "metadata": {},
   "outputs": [
    {
     "data": {
      "text/html": [
       "<div>\n",
       "<style scoped>\n",
       "    .dataframe tbody tr th:only-of-type {\n",
       "        vertical-align: middle;\n",
       "    }\n",
       "\n",
       "    .dataframe tbody tr th {\n",
       "        vertical-align: top;\n",
       "    }\n",
       "\n",
       "    .dataframe thead th {\n",
       "        text-align: right;\n",
       "    }\n",
       "</style>\n",
       "<table border=\"1\" class=\"dataframe\">\n",
       "  <thead>\n",
       "    <tr style=\"text-align: right;\">\n",
       "      <th></th>\n",
       "      <th>Quem</th>\n",
       "      <th>Personalidade</th>\n",
       "      <th>Entidade_Representativa</th>\n",
       "      <th>Categoria_Participante</th>\n",
       "      <th>Estatal</th>\n",
       "      <th>Numero_Manifestacoes</th>\n",
       "      <th>Sim_impacto</th>\n",
       "      <th>Nao_impacto</th>\n",
       "      <th>N/D_impacto</th>\n",
       "      <th>N/A_impacto</th>\n",
       "      <th>N/C_impacto</th>\n",
       "    </tr>\n",
       "  </thead>\n",
       "  <tbody>\n",
       "    <tr>\n",
       "      <th>0</th>\n",
       "      <td>Pessoa 1</td>\n",
       "      <td>PJ</td>\n",
       "      <td>Sim</td>\n",
       "      <td>Agente econômico regulado</td>\n",
       "      <td>Não</td>\n",
       "      <td>2</td>\n",
       "      <td>0</td>\n",
       "      <td>2</td>\n",
       "      <td>0</td>\n",
       "      <td>0</td>\n",
       "      <td>0</td>\n",
       "    </tr>\n",
       "    <tr>\n",
       "      <th>1</th>\n",
       "      <td>Pessoa 2</td>\n",
       "      <td>PJ</td>\n",
       "      <td>Sim</td>\n",
       "      <td>Agente econômico regulado</td>\n",
       "      <td>Não</td>\n",
       "      <td>8</td>\n",
       "      <td>3</td>\n",
       "      <td>5</td>\n",
       "      <td>0</td>\n",
       "      <td>0</td>\n",
       "      <td>0</td>\n",
       "    </tr>\n",
       "    <tr>\n",
       "      <th>2</th>\n",
       "      <td>Pessoa 3</td>\n",
       "      <td>PF</td>\n",
       "      <td>Não</td>\n",
       "      <td>Profissional de saúde</td>\n",
       "      <td>Não</td>\n",
       "      <td>9</td>\n",
       "      <td>2</td>\n",
       "      <td>7</td>\n",
       "      <td>0</td>\n",
       "      <td>0</td>\n",
       "      <td>0</td>\n",
       "    </tr>\n",
       "    <tr>\n",
       "      <th>3</th>\n",
       "      <td>Pessoa 4</td>\n",
       "      <td>PF</td>\n",
       "      <td>Não</td>\n",
       "      <td>Profissional de saúde</td>\n",
       "      <td>Não</td>\n",
       "      <td>6</td>\n",
       "      <td>1</td>\n",
       "      <td>5</td>\n",
       "      <td>0</td>\n",
       "      <td>0</td>\n",
       "      <td>0</td>\n",
       "    </tr>\n",
       "    <tr>\n",
       "      <th>4</th>\n",
       "      <td>Pessoa 5</td>\n",
       "      <td>PJ</td>\n",
       "      <td>Sim</td>\n",
       "      <td>Outros</td>\n",
       "      <td>Não</td>\n",
       "      <td>17</td>\n",
       "      <td>1</td>\n",
       "      <td>16</td>\n",
       "      <td>0</td>\n",
       "      <td>0</td>\n",
       "      <td>0</td>\n",
       "    </tr>\n",
       "  </tbody>\n",
       "</table>\n",
       "</div>"
      ],
      "text/plain": [
       "       Quem Personalidade Entidade_Representativa     Categoria_Participante  \\\n",
       "0  Pessoa 1            PJ                     Sim  Agente econômico regulado   \n",
       "1  Pessoa 2            PJ                     Sim  Agente econômico regulado   \n",
       "2  Pessoa 3            PF                     Não      Profissional de saúde   \n",
       "3  Pessoa 4            PF                     Não      Profissional de saúde   \n",
       "4  Pessoa 5            PJ                     Sim                     Outros   \n",
       "\n",
       "  Estatal Numero_Manifestacoes Sim_impacto Nao_impacto N/D_impacto  \\\n",
       "0     Não                    2           0           2           0   \n",
       "1     Não                    8           3           5           0   \n",
       "2     Não                    9           2           7           0   \n",
       "3     Não                    6           1           5           0   \n",
       "4     Não                   17           1          16           0   \n",
       "\n",
       "  N/A_impacto N/C_impacto  \n",
       "0           0           0  \n",
       "1           0           0  \n",
       "2           0           0  \n",
       "3           0           0  \n",
       "4           0           0  "
      ]
     },
     "execution_count": 33,
     "metadata": {},
     "output_type": "execute_result"
    }
   ],
   "source": [
    "df.head()"
   ]
  },
  {
   "cell_type": "code",
   "execution_count": 34,
   "metadata": {},
   "outputs": [
    {
     "data": {
      "image/png": "[encoded data removed]",
      "text/plain": [
       "<Figure size 432x288 with 1 Axes>"
      ]
     },
     "metadata": {
      "needs_background": "light"
     },
     "output_type": "display_data"
    }
   ],
   "source": [
    "#PLOT 6\n",
    "df.groupby(['Personalidade', \"Categoria_Participante\"])[\"Quem\"].count().unstack().plot.bar().set_yscale(\"log\")"
   ]
  },
  {
   "cell_type": "code",
   "execution_count": null,
   "metadata": {},
   "outputs": [],
   "source": []
  },
  {
   "cell_type": "code",
   "execution_count": null,
   "metadata": {},
   "outputs": [],
   "source": []
  },
  {
   "cell_type": "code",
   "execution_count": null,
   "metadata": {},
   "outputs": [],
   "source": []
  }
 ],
 "metadata": {
  "kernelspec": {
   "display_name": "Python 3",
   "language": "python",
   "name": "python3"
  },
  "language_info": {
   "codemirror_mode": {
    "name": "ipython",
    "version": 3
   },
   "file_extension": ".py",
   "mimetype": "text/x-python",
   "name": "python",
   "nbconvert_exporter": "python",
   "pygments_lexer": "ipython3",
   "version": "3.7.3"
  }
 },
 "nbformat": 4,
 "nbformat_minor": 2
}
